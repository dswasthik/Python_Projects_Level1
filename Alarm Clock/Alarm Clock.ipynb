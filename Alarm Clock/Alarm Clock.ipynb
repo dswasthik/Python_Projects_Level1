{
 "cells": [
  {
   "cell_type": "code",
   "execution_count": null,
   "metadata": {},
   "outputs": [],
   "source": [
    "from datetime import datetime\n",
    "from playsound import playsound\n",
    "alarm_time = input(\"Enter Alarm Time set:HH:MM:SS\\n\")\n",
    "alarm_hour = alarm_time[0:2]\n",
    "alarm_min = alarm_time[3:5]\n",
    "alarm_sec = alarm_time[6:8]\n",
    "alarm_period = alarm_time[9:11].upper()\n",
    "print(\"Setting up alarm...\")\n",
    "while True:\n",
    "    now = datetime.now()\n",
    "    current_hour = now.strftime(\"%I\")\n",
    "    current_min = now.strftime(\"%M\")\n",
    "    current_sec = now.strftime(\"%S\")\n",
    "    current_period = now.strftime(\"%p\")\n",
    "    if(alarm_period == current_period):\n",
    "        if(alarm_hour == current_hour):\n",
    "            if(alarm_min == current_min):\n",
    "                if(alarm_sec == current_min):\n",
    "                    print(\"Wake up baby\")\n",
    "                    playsound(\"Alarm.mp3\")\n",
    "                    break\n",
    "    "
   ]
  },
  {
   "cell_type": "code",
   "execution_count": null,
   "metadata": {},
   "outputs": [],
   "source": []
  }
 ],
 "metadata": {
  "kernelspec": {
   "display_name": "Python 3",
   "language": "python",
   "name": "python3"
  },
  "language_info": {
   "codemirror_mode": {
    "name": "ipython",
    "version": 3
   },
   "file_extension": ".py",
   "mimetype": "text/x-python",
   "name": "python",
   "nbconvert_exporter": "python",
   "pygments_lexer": "ipython3",
   "version": "3.7.6"
  }
 },
 "nbformat": 4,
 "nbformat_minor": 2
}
