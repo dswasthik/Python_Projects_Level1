{
 "cells": [
  {
   "cell_type": "code",
   "execution_count": 1,
   "metadata": {},
   "outputs": [
    {
     "name": "stdout",
     "output_type": "stream",
     "text": [
      "Enter your height(cm): 180\n",
      "Enter your Weight(kg): 62\n",
      "Your Body Mass Index is:  19.1358024691358\n",
      "Healthy\n"
     ]
    }
   ],
   "source": [
    "height=float(input(\"Enter your height(cm): \"))\n",
    "weight=float(input(\"Enter your Weight(kg): \"))\n",
    "height = height/100\n",
    "BMI=weight/(height*height)\n",
    "print(\"Your Body Mass Index is: \",BMI)\n",
    "if(BMI>0):\n",
    "    if(BMI<=16):\n",
    "        print(\"Severely underweight\")\n",
    "    elif(BMI<=18.5):\n",
    "        print(\"Underweight\")\n",
    "    elif(BMI<=25):\n",
    "        print(\"Healthy\")\n",
    "    elif(BMI<=30):\n",
    "        print(\"Overweight\")\n",
    "    else: print(\"Severely overweight\")\n",
    "else:(\"enter valid details\")"
   ]
  },
  {
   "cell_type": "code",
   "execution_count": null,
   "metadata": {},
   "outputs": [],
   "source": []
  }
 ],
 "metadata": {
  "kernelspec": {
   "display_name": "Python 3",
   "language": "python",
   "name": "python3"
  },
  "language_info": {
   "codemirror_mode": {
    "name": "ipython",
    "version": 3
   },
   "file_extension": ".py",
   "mimetype": "text/x-python",
   "name": "python",
   "nbconvert_exporter": "python",
   "pygments_lexer": "ipython3",
   "version": "3.7.6"
  }
 },
 "nbformat": 4,
 "nbformat_minor": 2
}
